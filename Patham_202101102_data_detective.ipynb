{
  "nbformat": 4,
  "nbformat_minor": 0,
  "metadata": {
    "colab": {
      "provenance": [],
      "collapsed_sections": [
        "V7t7iyTLcfro"
      ]
    },
    "kernelspec": {
      "name": "python3",
      "display_name": "Python 3"
    },
    "language_info": {
      "name": "python"
    }
  },
  "cells": [
    {
      "cell_type": "markdown",
      "source": [
        "# **Imports**"
      ],
      "metadata": {
        "id": "YjxdCYcscamW"
      }
    },
    {
      "cell_type": "code",
      "execution_count": null,
      "metadata": {
        "id": "YgBue4nylzOi"
      },
      "outputs": [],
      "source": [
        "import pandas as pd\n",
        "import numpy as np\n",
        "import math\n",
        "\n",
        "import matplotlib.pyplot as plt\n",
        "import seaborn as sns\n",
        "from sklearn import datasets\n",
        "from sklearn import svm\n",
        "from sklearn.model_selection import train_test_split\n",
        "from sklearn.metrics import accuracy_score"
      ]
    },
    {
      "cell_type": "code",
      "source": [
        "!unzip /content/drive/MyDrive/Data_Mining/course_project_2/archive.zip -d /content/drive/MyDrive/Data_Mining/course_project_2/"
      ],
      "metadata": {
        "colab": {
          "base_uri": "https://localhost:8080/"
        },
        "id": "-KoVfp1rnY9v",
        "outputId": "17a7562a-7c86-4e9d-b925-dec346867be1"
      },
      "execution_count": null,
      "outputs": [
        {
          "output_type": "stream",
          "name": "stdout",
          "text": [
            "Archive:  /content/drive/MyDrive/Data_Mining/course_project_2/archive.zip\n",
            "  inflating: /content/drive/MyDrive/Data_Mining/course_project_2/CTU-IoT-Malware-Capture-1-1conn.log.labeled.csv  \n",
            "  inflating: /content/drive/MyDrive/Data_Mining/course_project_2/CTU-IoT-Malware-Capture-20-1conn.log.labeled.csv  \n",
            "  inflating: /content/drive/MyDrive/Data_Mining/course_project_2/CTU-IoT-Malware-Capture-21-1conn.log.labeled.csv  \n",
            "  inflating: /content/drive/MyDrive/Data_Mining/course_project_2/CTU-IoT-Malware-Capture-3-1conn.log.labeled.csv  \n",
            "  inflating: /content/drive/MyDrive/Data_Mining/course_project_2/CTU-IoT-Malware-Capture-34-1conn.log.labeled.csv  \n",
            "  inflating: /content/drive/MyDrive/Data_Mining/course_project_2/CTU-IoT-Malware-Capture-35-1conn.log.labeled.csv  \n",
            "  inflating: /content/drive/MyDrive/Data_Mining/course_project_2/CTU-IoT-Malware-Capture-42-1conn.log.labeled.csv  \n",
            "  inflating: /content/drive/MyDrive/Data_Mining/course_project_2/CTU-IoT-Malware-Capture-48-1conn.log.labeled.csv  \n",
            "  inflating: /content/drive/MyDrive/Data_Mining/course_project_2/CTU-IoT-Malware-Capture-60-1conn.log.labeled.csv  \n",
            "  inflating: /content/drive/MyDrive/Data_Mining/course_project_2/CTU-IoT-Malware-Capture-9-1conn.log.labeled.csv  \n"
          ]
        }
      ]
    },
    {
      "cell_type": "markdown",
      "source": [
        "# **Loading dataset**"
      ],
      "metadata": {
        "id": "V7t7iyTLcfro"
      }
    },
    {
      "cell_type": "code",
      "source": [
        "df_1 = pd.read_csv('/content/drive/MyDrive/Data_Mining/course_project_2/CTU-IoT-Malware-Capture-1-1conn.log.labeled.csv')\n",
        "df_20 = pd.read_csv('/content/drive/MyDrive/Data_Mining/course_project_2/CTU-IoT-Malware-Capture-20-1conn.log.labeled.csv')\n",
        "df_21 = pd.read_csv('/content/drive/MyDrive/Data_Mining/course_project_2/CTU-IoT-Malware-Capture-21-1conn.log.labeled.csv')\n",
        "df_3 = pd.read_csv('/content/drive/MyDrive/Data_Mining/course_project_2/CTU-IoT-Malware-Capture-3-1conn.log.labeled.csv')\n",
        "df_34 = pd.read_csv('/content/drive/MyDrive/Data_Mining/course_project_2/CTU-IoT-Malware-Capture-34-1conn.log.labeled.csv')\n",
        "df_35 = pd.read_csv('/content/drive/MyDrive/Data_Mining/course_project_2/CTU-IoT-Malware-Capture-35-1conn.log.labeled.csv')"
      ],
      "metadata": {
        "id": "kIoQpPttnhfk"
      },
      "execution_count": null,
      "outputs": []
    },
    {
      "cell_type": "code",
      "source": [
        "file_path = '/content/drive/MyDrive/Data_Mining/course_project_2/CTU-IoT-Malware-Capture-35-1conn.log.labeled.csv'\n",
        "\n",
        "column_list = ['ts', 'uid', 'id.orig_h', 'id.orig_p', 'id.resp_h', 'id.resp_p', 'proto', 'service', 'duration', 'orig_bytes', 'resp_bytes', 'conn_state', 'local_orig', 'local_resp', 'missed_bytes', 'history', 'orig_pkts', 'orig_ip_bytes', 'resp_pkts', 'resp_ip_bytes', 'tunnel_parents', 'label', 'detailed-label']\n",
        "\n",
        "delimiter = '|'\n",
        "\n",
        "df_35_main = pd.read_csv(file_path, sep=delimiter, header=None, names=column_list)\n",
        "\n",
        "df_35_main = df_35_main.drop(0)\n",
        "\n",
        "df_35_main.head()"
      ],
      "metadata": {
        "colab": {
          "base_uri": "https://localhost:8080/",
          "height": 359
        },
        "id": "au6kFdcmsqgE",
        "outputId": "e44a9765-dc0a-411e-f42a-b0d3349fefea"
      },
      "execution_count": null,
      "outputs": [
        {
          "output_type": "stream",
          "name": "stderr",
          "text": [
            "<ipython-input-25-5214fd95c076>:7: DtypeWarning: Columns (0,3,5,14,16,17,18,19) have mixed types. Specify dtype option on import or set low_memory=False.\n",
            "  df_35_main = pd.read_csv(file_path, sep=delimiter, header=None, names=column_list)\n"
          ]
        },
        {
          "output_type": "execute_result",
          "data": {
            "text/plain": [
              "                  ts                 uid      id.orig_h id.orig_p  \\\n",
              "1  1545402842.863612  CdNmOg26ZIaBRzPvWj  192.168.1.196     59932   \n",
              "2  1545402850.041294  CgzGV333k9WCximeu8  192.168.1.196     59932   \n",
              "3  1545402858.441479  CLm5Pd3ZnqmYVjrZ44  192.168.1.196     59932   \n",
              "4  1545402853.913069  CDn2pd1rDD1lCMXAia  192.168.1.196     35883   \n",
              "5  1545402843.902540  C1NKkV3tB4rImzbpDj  192.168.1.196     43531   \n",
              "\n",
              "        id.resp_h id.resp_p proto service  duration orig_bytes  ...  \\\n",
              "1  104.248.160.24        80   tcp       -  3.097754          0  ...   \n",
              "2  104.248.160.24        80   tcp       -         -          -  ...   \n",
              "3  104.248.160.24        80   tcp       -         -          -  ...   \n",
              "4     192.168.1.1        53   udp     dns  5.005148         78  ...   \n",
              "5     192.168.1.1        53   udp     dns  5.005145         78  ...   \n",
              "\n",
              "  local_resp missed_bytes history orig_pkts orig_ip_bytes resp_pkts  \\\n",
              "1          -            0       S         3           180         0   \n",
              "2          -            0       S         1            60         0   \n",
              "3          -            0       S         1            60         0   \n",
              "4          -            0       D         2           134         0   \n",
              "5          -            0       D         2           134         0   \n",
              "\n",
              "  resp_ip_bytes tunnel_parents            label detailed-label  \n",
              "1             0              -  Malicious   C&C            NaN  \n",
              "2             0              -  Malicious   C&C            NaN  \n",
              "3             0              -  Malicious   C&C            NaN  \n",
              "4             0              -           Benign              -  \n",
              "5             0              -           Benign              -  \n",
              "\n",
              "[5 rows x 23 columns]"
            ],
            "text/html": [
              "\n",
              "  <div id=\"df-62ebeb40-a84e-4a74-a9d7-1f7a23e2c241\" class=\"colab-df-container\">\n",
              "    <div>\n",
              "<style scoped>\n",
              "    .dataframe tbody tr th:only-of-type {\n",
              "        vertical-align: middle;\n",
              "    }\n",
              "\n",
              "    .dataframe tbody tr th {\n",
              "        vertical-align: top;\n",
              "    }\n",
              "\n",
              "    .dataframe thead th {\n",
              "        text-align: right;\n",
              "    }\n",
              "</style>\n",
              "<table border=\"1\" class=\"dataframe\">\n",
              "  <thead>\n",
              "    <tr style=\"text-align: right;\">\n",
              "      <th></th>\n",
              "      <th>ts</th>\n",
              "      <th>uid</th>\n",
              "      <th>id.orig_h</th>\n",
              "      <th>id.orig_p</th>\n",
              "      <th>id.resp_h</th>\n",
              "      <th>id.resp_p</th>\n",
              "      <th>proto</th>\n",
              "      <th>service</th>\n",
              "      <th>duration</th>\n",
              "      <th>orig_bytes</th>\n",
              "      <th>...</th>\n",
              "      <th>local_resp</th>\n",
              "      <th>missed_bytes</th>\n",
              "      <th>history</th>\n",
              "      <th>orig_pkts</th>\n",
              "      <th>orig_ip_bytes</th>\n",
              "      <th>resp_pkts</th>\n",
              "      <th>resp_ip_bytes</th>\n",
              "      <th>tunnel_parents</th>\n",
              "      <th>label</th>\n",
              "      <th>detailed-label</th>\n",
              "    </tr>\n",
              "  </thead>\n",
              "  <tbody>\n",
              "    <tr>\n",
              "      <th>1</th>\n",
              "      <td>1545402842.863612</td>\n",
              "      <td>CdNmOg26ZIaBRzPvWj</td>\n",
              "      <td>192.168.1.196</td>\n",
              "      <td>59932</td>\n",
              "      <td>104.248.160.24</td>\n",
              "      <td>80</td>\n",
              "      <td>tcp</td>\n",
              "      <td>-</td>\n",
              "      <td>3.097754</td>\n",
              "      <td>0</td>\n",
              "      <td>...</td>\n",
              "      <td>-</td>\n",
              "      <td>0</td>\n",
              "      <td>S</td>\n",
              "      <td>3</td>\n",
              "      <td>180</td>\n",
              "      <td>0</td>\n",
              "      <td>0</td>\n",
              "      <td>-</td>\n",
              "      <td>Malicious   C&amp;C</td>\n",
              "      <td>NaN</td>\n",
              "    </tr>\n",
              "    <tr>\n",
              "      <th>2</th>\n",
              "      <td>1545402850.041294</td>\n",
              "      <td>CgzGV333k9WCximeu8</td>\n",
              "      <td>192.168.1.196</td>\n",
              "      <td>59932</td>\n",
              "      <td>104.248.160.24</td>\n",
              "      <td>80</td>\n",
              "      <td>tcp</td>\n",
              "      <td>-</td>\n",
              "      <td>-</td>\n",
              "      <td>-</td>\n",
              "      <td>...</td>\n",
              "      <td>-</td>\n",
              "      <td>0</td>\n",
              "      <td>S</td>\n",
              "      <td>1</td>\n",
              "      <td>60</td>\n",
              "      <td>0</td>\n",
              "      <td>0</td>\n",
              "      <td>-</td>\n",
              "      <td>Malicious   C&amp;C</td>\n",
              "      <td>NaN</td>\n",
              "    </tr>\n",
              "    <tr>\n",
              "      <th>3</th>\n",
              "      <td>1545402858.441479</td>\n",
              "      <td>CLm5Pd3ZnqmYVjrZ44</td>\n",
              "      <td>192.168.1.196</td>\n",
              "      <td>59932</td>\n",
              "      <td>104.248.160.24</td>\n",
              "      <td>80</td>\n",
              "      <td>tcp</td>\n",
              "      <td>-</td>\n",
              "      <td>-</td>\n",
              "      <td>-</td>\n",
              "      <td>...</td>\n",
              "      <td>-</td>\n",
              "      <td>0</td>\n",
              "      <td>S</td>\n",
              "      <td>1</td>\n",
              "      <td>60</td>\n",
              "      <td>0</td>\n",
              "      <td>0</td>\n",
              "      <td>-</td>\n",
              "      <td>Malicious   C&amp;C</td>\n",
              "      <td>NaN</td>\n",
              "    </tr>\n",
              "    <tr>\n",
              "      <th>4</th>\n",
              "      <td>1545402853.913069</td>\n",
              "      <td>CDn2pd1rDD1lCMXAia</td>\n",
              "      <td>192.168.1.196</td>\n",
              "      <td>35883</td>\n",
              "      <td>192.168.1.1</td>\n",
              "      <td>53</td>\n",
              "      <td>udp</td>\n",
              "      <td>dns</td>\n",
              "      <td>5.005148</td>\n",
              "      <td>78</td>\n",
              "      <td>...</td>\n",
              "      <td>-</td>\n",
              "      <td>0</td>\n",
              "      <td>D</td>\n",
              "      <td>2</td>\n",
              "      <td>134</td>\n",
              "      <td>0</td>\n",
              "      <td>0</td>\n",
              "      <td>-</td>\n",
              "      <td>Benign</td>\n",
              "      <td>-</td>\n",
              "    </tr>\n",
              "    <tr>\n",
              "      <th>5</th>\n",
              "      <td>1545402843.902540</td>\n",
              "      <td>C1NKkV3tB4rImzbpDj</td>\n",
              "      <td>192.168.1.196</td>\n",
              "      <td>43531</td>\n",
              "      <td>192.168.1.1</td>\n",
              "      <td>53</td>\n",
              "      <td>udp</td>\n",
              "      <td>dns</td>\n",
              "      <td>5.005145</td>\n",
              "      <td>78</td>\n",
              "      <td>...</td>\n",
              "      <td>-</td>\n",
              "      <td>0</td>\n",
              "      <td>D</td>\n",
              "      <td>2</td>\n",
              "      <td>134</td>\n",
              "      <td>0</td>\n",
              "      <td>0</td>\n",
              "      <td>-</td>\n",
              "      <td>Benign</td>\n",
              "      <td>-</td>\n",
              "    </tr>\n",
              "  </tbody>\n",
              "</table>\n",
              "<p>5 rows × 23 columns</p>\n",
              "</div>\n",
              "    <div class=\"colab-df-buttons\">\n",
              "\n",
              "  <div class=\"colab-df-container\">\n",
              "    <button class=\"colab-df-convert\" onclick=\"convertToInteractive('df-62ebeb40-a84e-4a74-a9d7-1f7a23e2c241')\"\n",
              "            title=\"Convert this dataframe to an interactive table.\"\n",
              "            style=\"display:none;\">\n",
              "\n",
              "  <svg xmlns=\"http://www.w3.org/2000/svg\" height=\"24px\" viewBox=\"0 -960 960 960\">\n",
              "    <path d=\"M120-120v-720h720v720H120Zm60-500h600v-160H180v160Zm220 220h160v-160H400v160Zm0 220h160v-160H400v160ZM180-400h160v-160H180v160Zm440 0h160v-160H620v160ZM180-180h160v-160H180v160Zm440 0h160v-160H620v160Z\"/>\n",
              "  </svg>\n",
              "    </button>\n",
              "\n",
              "  <style>\n",
              "    .colab-df-container {\n",
              "      display:flex;\n",
              "      gap: 12px;\n",
              "    }\n",
              "\n",
              "    .colab-df-convert {\n",
              "      background-color: #E8F0FE;\n",
              "      border: none;\n",
              "      border-radius: 50%;\n",
              "      cursor: pointer;\n",
              "      display: none;\n",
              "      fill: #1967D2;\n",
              "      height: 32px;\n",
              "      padding: 0 0 0 0;\n",
              "      width: 32px;\n",
              "    }\n",
              "\n",
              "    .colab-df-convert:hover {\n",
              "      background-color: #E2EBFA;\n",
              "      box-shadow: 0px 1px 2px rgba(60, 64, 67, 0.3), 0px 1px 3px 1px rgba(60, 64, 67, 0.15);\n",
              "      fill: #174EA6;\n",
              "    }\n",
              "\n",
              "    .colab-df-buttons div {\n",
              "      margin-bottom: 4px;\n",
              "    }\n",
              "\n",
              "    [theme=dark] .colab-df-convert {\n",
              "      background-color: #3B4455;\n",
              "      fill: #D2E3FC;\n",
              "    }\n",
              "\n",
              "    [theme=dark] .colab-df-convert:hover {\n",
              "      background-color: #434B5C;\n",
              "      box-shadow: 0px 1px 3px 1px rgba(0, 0, 0, 0.15);\n",
              "      filter: drop-shadow(0px 1px 2px rgba(0, 0, 0, 0.3));\n",
              "      fill: #FFFFFF;\n",
              "    }\n",
              "  </style>\n",
              "\n",
              "    <script>\n",
              "      const buttonEl =\n",
              "        document.querySelector('#df-62ebeb40-a84e-4a74-a9d7-1f7a23e2c241 button.colab-df-convert');\n",
              "      buttonEl.style.display =\n",
              "        google.colab.kernel.accessAllowed ? 'block' : 'none';\n",
              "\n",
              "      async function convertToInteractive(key) {\n",
              "        const element = document.querySelector('#df-62ebeb40-a84e-4a74-a9d7-1f7a23e2c241');\n",
              "        const dataTable =\n",
              "          await google.colab.kernel.invokeFunction('convertToInteractive',\n",
              "                                                    [key], {});\n",
              "        if (!dataTable) return;\n",
              "\n",
              "        const docLinkHtml = 'Like what you see? Visit the ' +\n",
              "          '<a target=\"_blank\" href=https://colab.research.google.com/notebooks/data_table.ipynb>data table notebook</a>'\n",
              "          + ' to learn more about interactive tables.';\n",
              "        element.innerHTML = '';\n",
              "        dataTable['output_type'] = 'display_data';\n",
              "        await google.colab.output.renderOutput(dataTable, element);\n",
              "        const docLink = document.createElement('div');\n",
              "        docLink.innerHTML = docLinkHtml;\n",
              "        element.appendChild(docLink);\n",
              "      }\n",
              "    </script>\n",
              "  </div>\n",
              "\n",
              "\n",
              "<div id=\"df-e97b2453-8c6f-4a11-8d34-0c446b06925b\">\n",
              "  <button class=\"colab-df-quickchart\" onclick=\"quickchart('df-e97b2453-8c6f-4a11-8d34-0c446b06925b')\"\n",
              "            title=\"Suggest charts.\"\n",
              "            style=\"display:none;\">\n",
              "\n",
              "<svg xmlns=\"http://www.w3.org/2000/svg\" height=\"24px\"viewBox=\"0 0 24 24\"\n",
              "     width=\"24px\">\n",
              "    <g>\n",
              "        <path d=\"M19 3H5c-1.1 0-2 .9-2 2v14c0 1.1.9 2 2 2h14c1.1 0 2-.9 2-2V5c0-1.1-.9-2-2-2zM9 17H7v-7h2v7zm4 0h-2V7h2v10zm4 0h-2v-4h2v4z\"/>\n",
              "    </g>\n",
              "</svg>\n",
              "  </button>\n",
              "\n",
              "<style>\n",
              "  .colab-df-quickchart {\n",
              "      --bg-color: #E8F0FE;\n",
              "      --fill-color: #1967D2;\n",
              "      --hover-bg-color: #E2EBFA;\n",
              "      --hover-fill-color: #174EA6;\n",
              "      --disabled-fill-color: #AAA;\n",
              "      --disabled-bg-color: #DDD;\n",
              "  }\n",
              "\n",
              "  [theme=dark] .colab-df-quickchart {\n",
              "      --bg-color: #3B4455;\n",
              "      --fill-color: #D2E3FC;\n",
              "      --hover-bg-color: #434B5C;\n",
              "      --hover-fill-color: #FFFFFF;\n",
              "      --disabled-bg-color: #3B4455;\n",
              "      --disabled-fill-color: #666;\n",
              "  }\n",
              "\n",
              "  .colab-df-quickchart {\n",
              "    background-color: var(--bg-color);\n",
              "    border: none;\n",
              "    border-radius: 50%;\n",
              "    cursor: pointer;\n",
              "    display: none;\n",
              "    fill: var(--fill-color);\n",
              "    height: 32px;\n",
              "    padding: 0;\n",
              "    width: 32px;\n",
              "  }\n",
              "\n",
              "  .colab-df-quickchart:hover {\n",
              "    background-color: var(--hover-bg-color);\n",
              "    box-shadow: 0 1px 2px rgba(60, 64, 67, 0.3), 0 1px 3px 1px rgba(60, 64, 67, 0.15);\n",
              "    fill: var(--button-hover-fill-color);\n",
              "  }\n",
              "\n",
              "  .colab-df-quickchart-complete:disabled,\n",
              "  .colab-df-quickchart-complete:disabled:hover {\n",
              "    background-color: var(--disabled-bg-color);\n",
              "    fill: var(--disabled-fill-color);\n",
              "    box-shadow: none;\n",
              "  }\n",
              "\n",
              "  .colab-df-spinner {\n",
              "    border: 2px solid var(--fill-color);\n",
              "    border-color: transparent;\n",
              "    border-bottom-color: var(--fill-color);\n",
              "    animation:\n",
              "      spin 1s steps(1) infinite;\n",
              "  }\n",
              "\n",
              "  @keyframes spin {\n",
              "    0% {\n",
              "      border-color: transparent;\n",
              "      border-bottom-color: var(--fill-color);\n",
              "      border-left-color: var(--fill-color);\n",
              "    }\n",
              "    20% {\n",
              "      border-color: transparent;\n",
              "      border-left-color: var(--fill-color);\n",
              "      border-top-color: var(--fill-color);\n",
              "    }\n",
              "    30% {\n",
              "      border-color: transparent;\n",
              "      border-left-color: var(--fill-color);\n",
              "      border-top-color: var(--fill-color);\n",
              "      border-right-color: var(--fill-color);\n",
              "    }\n",
              "    40% {\n",
              "      border-color: transparent;\n",
              "      border-right-color: var(--fill-color);\n",
              "      border-top-color: var(--fill-color);\n",
              "    }\n",
              "    60% {\n",
              "      border-color: transparent;\n",
              "      border-right-color: var(--fill-color);\n",
              "    }\n",
              "    80% {\n",
              "      border-color: transparent;\n",
              "      border-right-color: var(--fill-color);\n",
              "      border-bottom-color: var(--fill-color);\n",
              "    }\n",
              "    90% {\n",
              "      border-color: transparent;\n",
              "      border-bottom-color: var(--fill-color);\n",
              "    }\n",
              "  }\n",
              "</style>\n",
              "\n",
              "  <script>\n",
              "    async function quickchart(key) {\n",
              "      const quickchartButtonEl =\n",
              "        document.querySelector('#' + key + ' button');\n",
              "      quickchartButtonEl.disabled = true;  // To prevent multiple clicks.\n",
              "      quickchartButtonEl.classList.add('colab-df-spinner');\n",
              "      try {\n",
              "        const charts = await google.colab.kernel.invokeFunction(\n",
              "            'suggestCharts', [key], {});\n",
              "      } catch (error) {\n",
              "        console.error('Error during call to suggestCharts:', error);\n",
              "      }\n",
              "      quickchartButtonEl.classList.remove('colab-df-spinner');\n",
              "      quickchartButtonEl.classList.add('colab-df-quickchart-complete');\n",
              "    }\n",
              "    (() => {\n",
              "      let quickchartButtonEl =\n",
              "        document.querySelector('#df-e97b2453-8c6f-4a11-8d34-0c446b06925b button');\n",
              "      quickchartButtonEl.style.display =\n",
              "        google.colab.kernel.accessAllowed ? 'block' : 'none';\n",
              "    })();\n",
              "  </script>\n",
              "</div>\n",
              "    </div>\n",
              "  </div>\n"
            ]
          },
          "metadata": {},
          "execution_count": 25
        }
      ]
    },
    {
      "cell_type": "markdown",
      "source": [
        "# **Features of the dataset**"
      ],
      "metadata": {
        "id": "ijD1AfradmY1"
      }
    },
    {
      "cell_type": "code",
      "source": [
        "df_temp.columns"
      ],
      "metadata": {
        "colab": {
          "base_uri": "https://localhost:8080/"
        },
        "id": "dOvVuJBVPGmE",
        "outputId": "76b01b65-ab6f-45cf-879b-bac69df7bc4e"
      },
      "execution_count": null,
      "outputs": [
        {
          "output_type": "execute_result",
          "data": {
            "text/plain": [
              "Index(['ts', 'uid', 'id.orig_h', 'id.orig_p', 'id.resp_h', 'id.resp_p',\n",
              "       'duration', 'orig_bytes', 'resp_bytes', 'conn_state', 'missed_bytes',\n",
              "       'history', 'orig_pkts', 'orig_ip_bytes', 'resp_pkts', 'resp_ip_bytes',\n",
              "       'label', 'detailed-label'],\n",
              "      dtype='object')"
            ]
          },
          "metadata": {},
          "execution_count": 114
        }
      ]
    },
    {
      "cell_type": "markdown",
      "source": [
        "# **Retriving preprocessed dataset file**"
      ],
      "metadata": {
        "id": "UHN1mRYodQo8"
      }
    },
    {
      "cell_type": "code",
      "source": [
        "csv_path = \"/content/drive/MyDrive/Data_Mining/course_project_2/df_20.csv\"\n",
        "\n",
        "df_20_main.to_csv(csv_path,index=False)"
      ],
      "metadata": {
        "id": "aqEzI2UKt_Mf"
      },
      "execution_count": null,
      "outputs": []
    },
    {
      "cell_type": "code",
      "source": [
        "csv_path = \"/content/drive/MyDrive/Data_Mining/course_project_2/df_main.csv\"\n",
        "\n",
        "df_main_new.to_csv(csv_path,index=False)"
      ],
      "metadata": {
        "id": "AuX8MZDax6eq"
      },
      "execution_count": null,
      "outputs": []
    },
    {
      "cell_type": "code",
      "source": [
        "df_main = pd.concat([df_1_main, df_20_main, df_21_main,df_3_main,df_34_main], axis=0)\n",
        "\n",
        "# Reset the index if you want a continuous index\n",
        "df_main.reset_index(drop=True, inplace=True)"
      ],
      "metadata": {
        "id": "Zpb0-RRCxOza"
      },
      "execution_count": null,
      "outputs": []
    },
    {
      "cell_type": "markdown",
      "source": [
        "# **Finding the Null values**"
      ],
      "metadata": {
        "id": "3iqXf9Podgxu"
      }
    },
    {
      "cell_type": "code",
      "source": [
        "df_main.isnull().sum()"
      ],
      "metadata": {
        "colab": {
          "base_uri": "https://localhost:8080/"
        },
        "id": "y5Jr-zZGx_3B",
        "outputId": "88adada8-05f3-479a-8064-dae1ceeb1f09"
      },
      "execution_count": null,
      "outputs": [
        {
          "output_type": "execute_result",
          "data": {
            "text/plain": [
              "ts                0\n",
              "uid               0\n",
              "id.orig_h         0\n",
              "id.orig_p         0\n",
              "id.resp_h         0\n",
              "id.resp_p         0\n",
              "proto             0\n",
              "service           0\n",
              "duration          0\n",
              "orig_bytes        0\n",
              "resp_bytes        0\n",
              "conn_state        0\n",
              "local_orig        0\n",
              "local_resp        0\n",
              "missed_bytes      0\n",
              "history           0\n",
              "orig_pkts         0\n",
              "orig_ip_bytes     0\n",
              "resp_pkts         0\n",
              "resp_ip_bytes     0\n",
              "tunnel_parents    0\n",
              "label             0\n",
              "detailed-label    0\n",
              "dtype: int64"
            ]
          },
          "metadata": {},
          "execution_count": 19
        }
      ]
    },
    {
      "cell_type": "markdown",
      "source": [
        "# **Finding '-' values**"
      ],
      "metadata": {
        "id": "KOL4_RSLePoj"
      }
    },
    {
      "cell_type": "code",
      "source": [
        "for i in df_temp.columns:\n",
        "  count_hyphen = (df_main[i] == '-').sum()\n",
        "  print(f'{i} count is: {count_hyphen}')"
      ],
      "metadata": {
        "colab": {
          "base_uri": "https://localhost:8080/"
        },
        "id": "3ra5hw5XyXhp",
        "outputId": "54b35699-b6e9-495a-802f-b82c25a6af0e"
      },
      "execution_count": null,
      "outputs": [
        {
          "output_type": "stream",
          "name": "stdout",
          "text": [
            "ts count is: 0\n",
            "uid count is: 0\n",
            "id.orig_h count is: 0\n",
            "id.orig_p count is: 0\n",
            "id.resp_h count is: 0\n",
            "id.resp_p count is: 0\n",
            "duration count is: 0\n",
            "orig_bytes count is: 0\n",
            "resp_bytes count is: 0\n",
            "conn_state count is: 0\n",
            "missed_bytes count is: 0\n",
            "history count is: 0\n",
            "orig_pkts count is: 0\n",
            "orig_ip_bytes count is: 0\n",
            "resp_pkts count is: 0\n",
            "resp_ip_bytes count is: 0\n",
            "label count is: 0\n",
            "detailed-label count is: 0\n"
          ]
        }
      ]
    },
    {
      "cell_type": "markdown",
      "source": [
        "# **Dropping column which contains more than 95% '-' values**"
      ],
      "metadata": {
        "id": "zwLui93Yeapg"
      }
    },
    {
      "cell_type": "code",
      "source": [
        "columns_to_drop = ['service', 'tunnel_parents','local_orig','local_resp']\n",
        "\n",
        "df_main = df_main.drop(columns = columns_to_drop)"
      ],
      "metadata": {
        "id": "lYF7b-LNzDJ6"
      },
      "execution_count": null,
      "outputs": []
    },
    {
      "cell_type": "markdown",
      "source": [
        "# **Preprocessing**"
      ],
      "metadata": {
        "id": "6HOHJxHAew9p"
      }
    },
    {
      "cell_type": "code",
      "source": [
        "df_main = pd.read_csv('/content/drive/MyDrive/Data_Mining/course_project_2/df_main_new.csv')"
      ],
      "metadata": {
        "id": "_pcRX87v76Wj"
      },
      "execution_count": null,
      "outputs": []
    },
    {
      "cell_type": "code",
      "source": [
        "df_35_main = pd.read_csv('/content/drive/MyDrive/Data_Mining/course_project_2/df_35_new.csv')"
      ],
      "metadata": {
        "id": "qKlQjFtj-Ymy"
      },
      "execution_count": null,
      "outputs": []
    },
    {
      "cell_type": "code",
      "source": [
        "file_path = '/content/drive/MyDrive/Data_Mining/course_project_2/CTU-IoT-Malware-Capture-9-1conn.log.labeled.csv'\n",
        "\n",
        "column_list = ['ts', 'uid', 'id.orig_h', 'id.orig_p', 'id.resp_h', 'id.resp_p', 'proto', 'service', 'duration', 'orig_bytes', 'resp_bytes', 'conn_state', 'local_orig', 'local_resp', 'missed_bytes', 'history', 'orig_pkts', 'orig_ip_bytes', 'resp_pkts', 'resp_ip_bytes', 'tunnel_parents', 'label', 'detailed-label']\n",
        "\n",
        "delimiter = '|'\n",
        "\n",
        "df_9_main = pd.read_csv(file_path, sep=delimiter, header=None, names=column_list)\n",
        "\n",
        "df_9_main = df_9_main.drop(0)\n",
        "\n",
        "df_9_main.head()"
      ],
      "metadata": {
        "colab": {
          "base_uri": "https://localhost:8080/",
          "height": 307
        },
        "id": "0S8B2gA-9Huy",
        "outputId": "07835247-d42d-407e-ff19-7e9489c359b1"
      },
      "execution_count": null,
      "outputs": [
        {
          "output_type": "stream",
          "name": "stderr",
          "text": [
            "<ipython-input-14-6df271f10948>:7: DtypeWarning: Columns (0,3,5,14,16,17,18,19) have mixed types. Specify dtype option on import or set low_memory=False.\n",
            "  df_9_main = pd.read_csv(file_path, sep=delimiter, header=None, names=column_list)\n"
          ]
        },
        {
          "output_type": "execute_result",
          "data": {
            "text/plain": [
              "                  ts                 uid        id.orig_h id.orig_p  \\\n",
              "1  1532510451.648888   CnR6zKxrWbFw26ua7  192.168.100.111     40008   \n",
              "2  1532511003.118878  CcfURS3zgEMzX0RqTc  192.168.100.102     57849   \n",
              "3  1532511739.837566  CPhAqD1EhNOoPVA6ha  192.168.100.102     59670   \n",
              "4  1532512077.774888   CFr56iYeYk4YZXrPf  192.168.100.102     59701   \n",
              "5  1532512335.605565  C8a9xW23hF8nDgeNtj  192.168.100.111     36199   \n",
              "\n",
              "         id.resp_h id.resp_p proto service    duration orig_bytes  ...  \\\n",
              "1    46.28.110.244       123   udp       -    0.004751         48  ...   \n",
              "2  192.168.100.111        22   tcp       -  108.421563       2376  ...   \n",
              "3  192.168.100.111        22   tcp       -    0.001244         21  ...   \n",
              "4  192.168.100.111        22   tcp       -    0.000738         21  ...   \n",
              "5    192.168.100.1        53   udp     dns           -          -  ...   \n",
              "\n",
              "  local_resp missed_bytes history orig_pkts orig_ip_bytes resp_pkts  \\\n",
              "1          -            0      Dd         1            76         1   \n",
              "2          -            0     DAd         5           332         2   \n",
              "3          -            0     SAD         3           189         0   \n",
              "4          -            0     SAD         3           189         0   \n",
              "5          -            0       D         1            58         0   \n",
              "\n",
              "  resp_ip_bytes tunnel_parents   label detailed-label  \n",
              "1            76              -  Benign              -  \n",
              "2           200              -  Benign              -  \n",
              "3             0              -  Benign              -  \n",
              "4             0              -  Benign              -  \n",
              "5             0              -  Benign              -  \n",
              "\n",
              "[5 rows x 23 columns]"
            ],
            "text/html": [
              "\n",
              "  <div id=\"df-702958d5-9fb8-476d-af08-4009f01c316b\" class=\"colab-df-container\">\n",
              "    <div>\n",
              "<style scoped>\n",
              "    .dataframe tbody tr th:only-of-type {\n",
              "        vertical-align: middle;\n",
              "    }\n",
              "\n",
              "    .dataframe tbody tr th {\n",
              "        vertical-align: top;\n",
              "    }\n",
              "\n",
              "    .dataframe thead th {\n",
              "        text-align: right;\n",
              "    }\n",
              "</style>\n",
              "<table border=\"1\" class=\"dataframe\">\n",
              "  <thead>\n",
              "    <tr style=\"text-align: right;\">\n",
              "      <th></th>\n",
              "      <th>ts</th>\n",
              "      <th>uid</th>\n",
              "      <th>id.orig_h</th>\n",
              "      <th>id.orig_p</th>\n",
              "      <th>id.resp_h</th>\n",
              "      <th>id.resp_p</th>\n",
              "      <th>proto</th>\n",
              "      <th>service</th>\n",
              "      <th>duration</th>\n",
              "      <th>orig_bytes</th>\n",
              "      <th>...</th>\n",
              "      <th>local_resp</th>\n",
              "      <th>missed_bytes</th>\n",
              "      <th>history</th>\n",
              "      <th>orig_pkts</th>\n",
              "      <th>orig_ip_bytes</th>\n",
              "      <th>resp_pkts</th>\n",
              "      <th>resp_ip_bytes</th>\n",
              "      <th>tunnel_parents</th>\n",
              "      <th>label</th>\n",
              "      <th>detailed-label</th>\n",
              "    </tr>\n",
              "  </thead>\n",
              "  <tbody>\n",
              "    <tr>\n",
              "      <th>1</th>\n",
              "      <td>1532510451.648888</td>\n",
              "      <td>CnR6zKxrWbFw26ua7</td>\n",
              "      <td>192.168.100.111</td>\n",
              "      <td>40008</td>\n",
              "      <td>46.28.110.244</td>\n",
              "      <td>123</td>\n",
              "      <td>udp</td>\n",
              "      <td>-</td>\n",
              "      <td>0.004751</td>\n",
              "      <td>48</td>\n",
              "      <td>...</td>\n",
              "      <td>-</td>\n",
              "      <td>0</td>\n",
              "      <td>Dd</td>\n",
              "      <td>1</td>\n",
              "      <td>76</td>\n",
              "      <td>1</td>\n",
              "      <td>76</td>\n",
              "      <td>-</td>\n",
              "      <td>Benign</td>\n",
              "      <td>-</td>\n",
              "    </tr>\n",
              "    <tr>\n",
              "      <th>2</th>\n",
              "      <td>1532511003.118878</td>\n",
              "      <td>CcfURS3zgEMzX0RqTc</td>\n",
              "      <td>192.168.100.102</td>\n",
              "      <td>57849</td>\n",
              "      <td>192.168.100.111</td>\n",
              "      <td>22</td>\n",
              "      <td>tcp</td>\n",
              "      <td>-</td>\n",
              "      <td>108.421563</td>\n",
              "      <td>2376</td>\n",
              "      <td>...</td>\n",
              "      <td>-</td>\n",
              "      <td>0</td>\n",
              "      <td>DAd</td>\n",
              "      <td>5</td>\n",
              "      <td>332</td>\n",
              "      <td>2</td>\n",
              "      <td>200</td>\n",
              "      <td>-</td>\n",
              "      <td>Benign</td>\n",
              "      <td>-</td>\n",
              "    </tr>\n",
              "    <tr>\n",
              "      <th>3</th>\n",
              "      <td>1532511739.837566</td>\n",
              "      <td>CPhAqD1EhNOoPVA6ha</td>\n",
              "      <td>192.168.100.102</td>\n",
              "      <td>59670</td>\n",
              "      <td>192.168.100.111</td>\n",
              "      <td>22</td>\n",
              "      <td>tcp</td>\n",
              "      <td>-</td>\n",
              "      <td>0.001244</td>\n",
              "      <td>21</td>\n",
              "      <td>...</td>\n",
              "      <td>-</td>\n",
              "      <td>0</td>\n",
              "      <td>SAD</td>\n",
              "      <td>3</td>\n",
              "      <td>189</td>\n",
              "      <td>0</td>\n",
              "      <td>0</td>\n",
              "      <td>-</td>\n",
              "      <td>Benign</td>\n",
              "      <td>-</td>\n",
              "    </tr>\n",
              "    <tr>\n",
              "      <th>4</th>\n",
              "      <td>1532512077.774888</td>\n",
              "      <td>CFr56iYeYk4YZXrPf</td>\n",
              "      <td>192.168.100.102</td>\n",
              "      <td>59701</td>\n",
              "      <td>192.168.100.111</td>\n",
              "      <td>22</td>\n",
              "      <td>tcp</td>\n",
              "      <td>-</td>\n",
              "      <td>0.000738</td>\n",
              "      <td>21</td>\n",
              "      <td>...</td>\n",
              "      <td>-</td>\n",
              "      <td>0</td>\n",
              "      <td>SAD</td>\n",
              "      <td>3</td>\n",
              "      <td>189</td>\n",
              "      <td>0</td>\n",
              "      <td>0</td>\n",
              "      <td>-</td>\n",
              "      <td>Benign</td>\n",
              "      <td>-</td>\n",
              "    </tr>\n",
              "    <tr>\n",
              "      <th>5</th>\n",
              "      <td>1532512335.605565</td>\n",
              "      <td>C8a9xW23hF8nDgeNtj</td>\n",
              "      <td>192.168.100.111</td>\n",
              "      <td>36199</td>\n",
              "      <td>192.168.100.1</td>\n",
              "      <td>53</td>\n",
              "      <td>udp</td>\n",
              "      <td>dns</td>\n",
              "      <td>-</td>\n",
              "      <td>-</td>\n",
              "      <td>...</td>\n",
              "      <td>-</td>\n",
              "      <td>0</td>\n",
              "      <td>D</td>\n",
              "      <td>1</td>\n",
              "      <td>58</td>\n",
              "      <td>0</td>\n",
              "      <td>0</td>\n",
              "      <td>-</td>\n",
              "      <td>Benign</td>\n",
              "      <td>-</td>\n",
              "    </tr>\n",
              "  </tbody>\n",
              "</table>\n",
              "<p>5 rows × 23 columns</p>\n",
              "</div>\n",
              "    <div class=\"colab-df-buttons\">\n",
              "\n",
              "  <div class=\"colab-df-container\">\n",
              "    <button class=\"colab-df-convert\" onclick=\"convertToInteractive('df-702958d5-9fb8-476d-af08-4009f01c316b')\"\n",
              "            title=\"Convert this dataframe to an interactive table.\"\n",
              "            style=\"display:none;\">\n",
              "\n",
              "  <svg xmlns=\"http://www.w3.org/2000/svg\" height=\"24px\" viewBox=\"0 -960 960 960\">\n",
              "    <path d=\"M120-120v-720h720v720H120Zm60-500h600v-160H180v160Zm220 220h160v-160H400v160Zm0 220h160v-160H400v160ZM180-400h160v-160H180v160Zm440 0h160v-160H620v160ZM180-180h160v-160H180v160Zm440 0h160v-160H620v160Z\"/>\n",
              "  </svg>\n",
              "    </button>\n",
              "\n",
              "  <style>\n",
              "    .colab-df-container {\n",
              "      display:flex;\n",
              "      gap: 12px;\n",
              "    }\n",
              "\n",
              "    .colab-df-convert {\n",
              "      background-color: #E8F0FE;\n",
              "      border: none;\n",
              "      border-radius: 50%;\n",
              "      cursor: pointer;\n",
              "      display: none;\n",
              "      fill: #1967D2;\n",
              "      height: 32px;\n",
              "      padding: 0 0 0 0;\n",
              "      width: 32px;\n",
              "    }\n",
              "\n",
              "    .colab-df-convert:hover {\n",
              "      background-color: #E2EBFA;\n",
              "      box-shadow: 0px 1px 2px rgba(60, 64, 67, 0.3), 0px 1px 3px 1px rgba(60, 64, 67, 0.15);\n",
              "      fill: #174EA6;\n",
              "    }\n",
              "\n",
              "    .colab-df-buttons div {\n",
              "      margin-bottom: 4px;\n",
              "    }\n",
              "\n",
              "    [theme=dark] .colab-df-convert {\n",
              "      background-color: #3B4455;\n",
              "      fill: #D2E3FC;\n",
              "    }\n",
              "\n",
              "    [theme=dark] .colab-df-convert:hover {\n",
              "      background-color: #434B5C;\n",
              "      box-shadow: 0px 1px 3px 1px rgba(0, 0, 0, 0.15);\n",
              "      filter: drop-shadow(0px 1px 2px rgba(0, 0, 0, 0.3));\n",
              "      fill: #FFFFFF;\n",
              "    }\n",
              "  </style>\n",
              "\n",
              "    <script>\n",
              "      const buttonEl =\n",
              "        document.querySelector('#df-702958d5-9fb8-476d-af08-4009f01c316b button.colab-df-convert');\n",
              "      buttonEl.style.display =\n",
              "        google.colab.kernel.accessAllowed ? 'block' : 'none';\n",
              "\n",
              "      async function convertToInteractive(key) {\n",
              "        const element = document.querySelector('#df-702958d5-9fb8-476d-af08-4009f01c316b');\n",
              "        const dataTable =\n",
              "          await google.colab.kernel.invokeFunction('convertToInteractive',\n",
              "                                                    [key], {});\n",
              "        if (!dataTable) return;\n",
              "\n",
              "        const docLinkHtml = 'Like what you see? Visit the ' +\n",
              "          '<a target=\"_blank\" href=https://colab.research.google.com/notebooks/data_table.ipynb>data table notebook</a>'\n",
              "          + ' to learn more about interactive tables.';\n",
              "        element.innerHTML = '';\n",
              "        dataTable['output_type'] = 'display_data';\n",
              "        await google.colab.output.renderOutput(dataTable, element);\n",
              "        const docLink = document.createElement('div');\n",
              "        docLink.innerHTML = docLinkHtml;\n",
              "        element.appendChild(docLink);\n",
              "      }\n",
              "    </script>\n",
              "  </div>\n",
              "\n",
              "\n",
              "<div id=\"df-3f929e1b-cad0-4512-89a8-bfa6a2fd8fe8\">\n",
              "  <button class=\"colab-df-quickchart\" onclick=\"quickchart('df-3f929e1b-cad0-4512-89a8-bfa6a2fd8fe8')\"\n",
              "            title=\"Suggest charts.\"\n",
              "            style=\"display:none;\">\n",
              "\n",
              "<svg xmlns=\"http://www.w3.org/2000/svg\" height=\"24px\"viewBox=\"0 0 24 24\"\n",
              "     width=\"24px\">\n",
              "    <g>\n",
              "        <path d=\"M19 3H5c-1.1 0-2 .9-2 2v14c0 1.1.9 2 2 2h14c1.1 0 2-.9 2-2V5c0-1.1-.9-2-2-2zM9 17H7v-7h2v7zm4 0h-2V7h2v10zm4 0h-2v-4h2v4z\"/>\n",
              "    </g>\n",
              "</svg>\n",
              "  </button>\n",
              "\n",
              "<style>\n",
              "  .colab-df-quickchart {\n",
              "      --bg-color: #E8F0FE;\n",
              "      --fill-color: #1967D2;\n",
              "      --hover-bg-color: #E2EBFA;\n",
              "      --hover-fill-color: #174EA6;\n",
              "      --disabled-fill-color: #AAA;\n",
              "      --disabled-bg-color: #DDD;\n",
              "  }\n",
              "\n",
              "  [theme=dark] .colab-df-quickchart {\n",
              "      --bg-color: #3B4455;\n",
              "      --fill-color: #D2E3FC;\n",
              "      --hover-bg-color: #434B5C;\n",
              "      --hover-fill-color: #FFFFFF;\n",
              "      --disabled-bg-color: #3B4455;\n",
              "      --disabled-fill-color: #666;\n",
              "  }\n",
              "\n",
              "  .colab-df-quickchart {\n",
              "    background-color: var(--bg-color);\n",
              "    border: none;\n",
              "    border-radius: 50%;\n",
              "    cursor: pointer;\n",
              "    display: none;\n",
              "    fill: var(--fill-color);\n",
              "    height: 32px;\n",
              "    padding: 0;\n",
              "    width: 32px;\n",
              "  }\n",
              "\n",
              "  .colab-df-quickchart:hover {\n",
              "    background-color: var(--hover-bg-color);\n",
              "    box-shadow: 0 1px 2px rgba(60, 64, 67, 0.3), 0 1px 3px 1px rgba(60, 64, 67, 0.15);\n",
              "    fill: var(--button-hover-fill-color);\n",
              "  }\n",
              "\n",
              "  .colab-df-quickchart-complete:disabled,\n",
              "  .colab-df-quickchart-complete:disabled:hover {\n",
              "    background-color: var(--disabled-bg-color);\n",
              "    fill: var(--disabled-fill-color);\n",
              "    box-shadow: none;\n",
              "  }\n",
              "\n",
              "  .colab-df-spinner {\n",
              "    border: 2px solid var(--fill-color);\n",
              "    border-color: transparent;\n",
              "    border-bottom-color: var(--fill-color);\n",
              "    animation:\n",
              "      spin 1s steps(1) infinite;\n",
              "  }\n",
              "\n",
              "  @keyframes spin {\n",
              "    0% {\n",
              "      border-color: transparent;\n",
              "      border-bottom-color: var(--fill-color);\n",
              "      border-left-color: var(--fill-color);\n",
              "    }\n",
              "    20% {\n",
              "      border-color: transparent;\n",
              "      border-left-color: var(--fill-color);\n",
              "      border-top-color: var(--fill-color);\n",
              "    }\n",
              "    30% {\n",
              "      border-color: transparent;\n",
              "      border-left-color: var(--fill-color);\n",
              "      border-top-color: var(--fill-color);\n",
              "      border-right-color: var(--fill-color);\n",
              "    }\n",
              "    40% {\n",
              "      border-color: transparent;\n",
              "      border-right-color: var(--fill-color);\n",
              "      border-top-color: var(--fill-color);\n",
              "    }\n",
              "    60% {\n",
              "      border-color: transparent;\n",
              "      border-right-color: var(--fill-color);\n",
              "    }\n",
              "    80% {\n",
              "      border-color: transparent;\n",
              "      border-right-color: var(--fill-color);\n",
              "      border-bottom-color: var(--fill-color);\n",
              "    }\n",
              "    90% {\n",
              "      border-color: transparent;\n",
              "      border-bottom-color: var(--fill-color);\n",
              "    }\n",
              "  }\n",
              "</style>\n",
              "\n",
              "  <script>\n",
              "    async function quickchart(key) {\n",
              "      const quickchartButtonEl =\n",
              "        document.querySelector('#' + key + ' button');\n",
              "      quickchartButtonEl.disabled = true;  // To prevent multiple clicks.\n",
              "      quickchartButtonEl.classList.add('colab-df-spinner');\n",
              "      try {\n",
              "        const charts = await google.colab.kernel.invokeFunction(\n",
              "            'suggestCharts', [key], {});\n",
              "      } catch (error) {\n",
              "        console.error('Error during call to suggestCharts:', error);\n",
              "      }\n",
              "      quickchartButtonEl.classList.remove('colab-df-spinner');\n",
              "      quickchartButtonEl.classList.add('colab-df-quickchart-complete');\n",
              "    }\n",
              "    (() => {\n",
              "      let quickchartButtonEl =\n",
              "        document.querySelector('#df-3f929e1b-cad0-4512-89a8-bfa6a2fd8fe8 button');\n",
              "      quickchartButtonEl.style.display =\n",
              "        google.colab.kernel.accessAllowed ? 'block' : 'none';\n",
              "    })();\n",
              "  </script>\n",
              "</div>\n",
              "    </div>\n",
              "  </div>\n"
            ]
          },
          "metadata": {},
          "execution_count": 14
        }
      ]
    },
    {
      "cell_type": "code",
      "source": [
        "columns_to_drop = ['service', 'tunnel_parents','local_orig','local_resp']\n",
        "\n",
        "df_9_main.drop(columns = columns_to_drop,inplace=True)\n",
        "\n",
        "new_columns = df_9_main.columns\n",
        "\n",
        "df_9_main.replace('-', pd.NA, inplace=True)\n",
        "\n",
        "df_9_main = df_9_main.dropna()\n",
        "\n",
        "for i in new_columns:\n",
        "  count_hyphen = (df_9_main[i] == '-').sum()\n",
        "  print(f'{i} count is: {count_hyphen}')\n",
        "\n",
        "df_9_main.shape"
      ],
      "metadata": {
        "colab": {
          "base_uri": "https://localhost:8080/"
        },
        "id": "Uc8-wocY8MCP",
        "outputId": "ca691028-752b-442b-b1ac-d05bf7509a98"
      },
      "execution_count": null,
      "outputs": [
        {
          "output_type": "stream",
          "name": "stdout",
          "text": [
            "ts count is: 0\n",
            "uid count is: 0\n",
            "id.orig_h count is: 0\n",
            "id.orig_p count is: 0\n",
            "id.resp_h count is: 0\n",
            "id.resp_p count is: 0\n",
            "proto count is: 0\n",
            "duration count is: 0\n",
            "orig_bytes count is: 0\n",
            "resp_bytes count is: 0\n",
            "conn_state count is: 0\n",
            "missed_bytes count is: 0\n",
            "history count is: 0\n",
            "orig_pkts count is: 0\n",
            "orig_ip_bytes count is: 0\n",
            "resp_pkts count is: 0\n",
            "resp_ip_bytes count is: 0\n",
            "label count is: 0\n",
            "detailed-label count is: 0\n"
          ]
        },
        {
          "output_type": "execute_result",
          "data": {
            "text/plain": [
              "(250, 19)"
            ]
          },
          "metadata": {},
          "execution_count": 15
        }
      ]
    },
    {
      "cell_type": "code",
      "source": [
        "csv_path = \"/content/drive/MyDrive/Data_Mining/course_project_2/df_main.csv\"\n",
        "\n",
        "df_main_new.to_csv(csv_path,index=False)"
      ],
      "metadata": {
        "id": "ihBE0Ho49l2W"
      },
      "execution_count": null,
      "outputs": []
    },
    {
      "cell_type": "code",
      "source": [
        "df_main.shape"
      ],
      "metadata": {
        "colab": {
          "base_uri": "https://localhost:8080/"
        },
        "id": "8lhjKq6aAiGR",
        "outputId": "d77731b5-1232-4270-ee50-2c385a45083d"
      },
      "execution_count": null,
      "outputs": [
        {
          "output_type": "execute_result",
          "data": {
            "text/plain": [
              "(346547, 19)"
            ]
          },
          "metadata": {},
          "execution_count": 23
        }
      ]
    },
    {
      "cell_type": "code",
      "source": [
        "for i in new_columns:\n",
        "  count_hyphen = (df_main[i] == '-').sum()\n",
        "  print(f'{i} count is: {count_hyphen}')"
      ],
      "metadata": {
        "colab": {
          "base_uri": "https://localhost:8080/"
        },
        "id": "_vILyHYNAoXC",
        "outputId": "83234e2b-10d1-49c9-8c8b-d39434d966b1"
      },
      "execution_count": null,
      "outputs": [
        {
          "output_type": "stream",
          "name": "stdout",
          "text": [
            "ts count is: 0\n",
            "uid count is: 0\n",
            "id.orig_h count is: 0\n",
            "id.orig_p count is: 0\n",
            "id.resp_h count is: 0\n",
            "id.resp_p count is: 0\n",
            "proto count is: 0\n",
            "duration count is: 0\n",
            "orig_bytes count is: 0\n",
            "resp_bytes count is: 0\n",
            "conn_state count is: 0\n",
            "missed_bytes count is: 0\n",
            "history count is: 0\n",
            "orig_pkts count is: 0\n",
            "orig_ip_bytes count is: 0\n",
            "resp_pkts count is: 0\n",
            "resp_ip_bytes count is: 0\n",
            "label count is: 0\n",
            "detailed-label count is: 0\n"
          ]
        }
      ]
    },
    {
      "cell_type": "code",
      "source": [
        "for i in categorical_columns.columns:\n",
        "  non_string_values = df_main_new[i].apply(pd.to_numeric, errors='coerce').isna()\n",
        "\n",
        "  # Find non-string values\n",
        "  non_string = df_main_new.loc[non_string_values]\n",
        "\n",
        "  # print(non_string)\n",
        "\n",
        "  print(f'{i} contains {non_string_values.sum()}')"
      ],
      "metadata": {
        "colab": {
          "base_uri": "https://localhost:8080/"
        },
        "id": "97XCL8VKCktQ",
        "outputId": "fb2b9a4e-0313-4d8e-8e1d-e2f00f192552"
      },
      "execution_count": null,
      "outputs": [
        {
          "output_type": "stream",
          "name": "stdout",
          "text": [
            "ts contains 0\n",
            "uid contains 348640\n",
            "id.orig_h contains 348640\n",
            "id.orig_p contains 0\n",
            "id.resp_h contains 348640\n",
            "id.resp_p contains 0\n",
            "proto contains 348640\n",
            "duration contains 0\n",
            "orig_bytes contains 0\n",
            "resp_bytes contains 0\n",
            "conn_state contains 348640\n",
            "missed_bytes contains 0\n",
            "history contains 348640\n",
            "orig_pkts contains 0\n",
            "orig_ip_bytes contains 0\n",
            "resp_pkts contains 0\n",
            "resp_ip_bytes contains 0\n",
            "label contains 348640\n",
            "detailed-label contains 348640\n"
          ]
        }
      ]
    },
    {
      "cell_type": "markdown",
      "source": [
        "# **Merging 9 dataset after preprocessing**"
      ],
      "metadata": {
        "id": "gaITtqZ5732t"
      }
    },
    {
      "cell_type": "code",
      "source": [
        "df_main_new = pd.concat([df_main,df_35_main,df_42_main,df_48_main,df_60_main,df_9_main], axis=0)\n",
        "\n",
        "# Reset the index if you want a continuous index\n",
        "df_main_new.reset_index(drop=True, inplace=True)"
      ],
      "metadata": {
        "id": "C0QaeBZxALmB"
      },
      "execution_count": null,
      "outputs": []
    },
    {
      "cell_type": "markdown",
      "source": [
        "# **Finding Categorical columns**"
      ],
      "metadata": {
        "id": "jd_Ho8TOe4Ji"
      }
    },
    {
      "cell_type": "code",
      "source": [
        "categorical_columns = df_main_new.select_dtypes(include=['object','category']).columns\n",
        "\n",
        "print(\"Categorical columns:\", categorical_columns)"
      ],
      "metadata": {
        "colab": {
          "base_uri": "https://localhost:8080/"
        },
        "id": "BshfNg6ZBES2",
        "outputId": "72beffa5-3f12-4003-e2c7-a9cb30a56180"
      },
      "execution_count": null,
      "outputs": [
        {
          "output_type": "stream",
          "name": "stdout",
          "text": [
            "Categorical columns: Index(['ts', 'uid', 'id.orig_h', 'id.orig_p', 'id.resp_h', 'id.resp_p',\n",
            "       'proto', 'duration', 'orig_bytes', 'resp_bytes', 'conn_state',\n",
            "       'missed_bytes', 'history', 'orig_pkts', 'orig_ip_bytes', 'resp_pkts',\n",
            "       'resp_ip_bytes', 'label', 'detailed-label'],\n",
            "      dtype='object')\n"
          ]
        }
      ]
    },
    {
      "cell_type": "code",
      "source": [
        "categorical_columns = df_main_new.select_dtypes(exclude=['number'])"
      ],
      "metadata": {
        "id": "VgDjKtXIB1KW"
      },
      "execution_count": null,
      "outputs": []
    },
    {
      "cell_type": "code",
      "source": [
        "categorical_columns.columns"
      ],
      "metadata": {
        "colab": {
          "base_uri": "https://localhost:8080/"
        },
        "id": "lK5_ZTB3B39o",
        "outputId": "4eacd26d-fca9-466f-b53c-58a2425fc271"
      },
      "execution_count": null,
      "outputs": [
        {
          "output_type": "execute_result",
          "data": {
            "text/plain": [
              "Index(['ts', 'uid', 'id.orig_h', 'id.orig_p', 'id.resp_h', 'id.resp_p',\n",
              "       'proto', 'duration', 'orig_bytes', 'resp_bytes', 'conn_state',\n",
              "       'missed_bytes', 'history', 'orig_pkts', 'orig_ip_bytes', 'resp_pkts',\n",
              "       'resp_ip_bytes', 'label', 'detailed-label'],\n",
              "      dtype='object')"
            ]
          },
          "metadata": {},
          "execution_count": 31
        }
      ]
    },
    {
      "cell_type": "markdown",
      "source": [
        "# **Label encoding**"
      ],
      "metadata": {
        "id": "IMM0459Oe8Ze"
      }
    },
    {
      "cell_type": "code",
      "source": [
        "from sklearn.preprocessing import LabelEncoder\n",
        "\n",
        "label_encoders = {}\n",
        "\n",
        "for column in categorical_new_col:\n",
        "  le = LabelEncoder()\n",
        "  print(column)\n",
        "  df_main_new[column] = le.fit_transform(df_main_new[column])\n",
        "  label_encoders[column] = le\n",
        "\n",
        "print(df_main_new)"
      ],
      "metadata": {
        "colab": {
          "base_uri": "https://localhost:8080/"
        },
        "id": "4ixdmsOiBPGc",
        "outputId": "c4ef3e40-205d-43f9-d341-4ae8757f0a63"
      },
      "execution_count": null,
      "outputs": [
        {
          "output_type": "stream",
          "name": "stdout",
          "text": [
            "uid\n",
            "id.orig_h\n",
            "id.resp_h\n",
            "proto\n",
            "conn_state\n",
            "history\n",
            "label\n",
            "detailed-label\n",
            "                       ts     uid  id.orig_h id.orig_p  id.resp_h id.resp_p  \\\n",
            "0       1525879831.015811  134116          4   51524.0     206428      23.0   \n",
            "1        1525879832.01624   59689          4   60905.0      33006      23.0   \n",
            "2       1525879837.005652   67942          4   52259.0     122570      23.0   \n",
            "3       1525879838.006081  119573          4   42207.0       1205    8080.0   \n",
            "4       1525879839.006262  257452          4   40459.0     150680      23.0   \n",
            "...                   ...     ...        ...       ...        ...       ...   \n",
            "348635  1532593079.217938   45332          5     45432       8986        81   \n",
            "348636  1532593114.664447   32712          5     35790      13310        23   \n",
            "348637  1532593591.187382  204687          5     48546      88679        81   \n",
            "348638   1532595012.21948  209401          5   58040.0      75969      81.0   \n",
            "348639  1532595014.340769  251880          5   44152.0      14139      23.0   \n",
            "\n",
            "        proto  duration orig_bytes resp_bytes  conn_state missed_bytes  \\\n",
            "0           0  2.999051          0          0           5          0.0   \n",
            "1           0  2.998796          0          0           5          0.0   \n",
            "2           0    2.9993          0          0           5          0.0   \n",
            "3           0  2.993548          0          0           5          0.0   \n",
            "4           0  2.998807          0          0           5          0.0   \n",
            "...       ...       ...        ...        ...         ...          ...   \n",
            "348635      0  3.111721          0          0           5            0   \n",
            "348636      0  3.105230          0          0           5            0   \n",
            "348637      0  3.142212          0          0           5            0   \n",
            "348638      0  3.149956          0          0           5          0.0   \n",
            "348639      0  3.108478          0          0           5          0.0   \n",
            "\n",
            "        history orig_pkts orig_ip_bytes resp_pkts resp_ip_bytes  label  \\\n",
            "0             5       3.0         180.0       0.0           0.0      0   \n",
            "1             5       3.0         180.0       0.0           0.0      0   \n",
            "2             5       3.0         180.0       0.0           0.0      0   \n",
            "3             5       3.0         180.0       0.0           0.0      0   \n",
            "4             5       3.0         180.0       0.0           0.0      0   \n",
            "...         ...       ...           ...       ...           ...    ...   \n",
            "348635        5         3           180         0             0      0   \n",
            "348636        5         3           180         0             0      0   \n",
            "348637        5         3           180         0             0      0   \n",
            "348638        5       3.0         180.0       0.0           0.0      0   \n",
            "348639        5       3.0         180.0       0.0           0.0      0   \n",
            "\n",
            "        detailed-label  \n",
            "0                    4  \n",
            "1                    4  \n",
            "2                    4  \n",
            "3                    4  \n",
            "4                    4  \n",
            "...                ...  \n",
            "348635               4  \n",
            "348636               4  \n",
            "348637               4  \n",
            "348638               4  \n",
            "348639               4  \n",
            "\n",
            "[348640 rows x 19 columns]\n"
          ]
        }
      ]
    },
    {
      "cell_type": "code",
      "source": [
        "categorical_new_col = ['uid','id.orig_h','id.resp_h','proto','conn_state','history','label','detailed-label']"
      ],
      "metadata": {
        "id": "JenVodHcD-oT"
      },
      "execution_count": null,
      "outputs": []
    },
    {
      "cell_type": "code",
      "source": [],
      "metadata": {
        "colab": {
          "base_uri": "https://localhost:8080/"
        },
        "id": "U_ioZVrmD3c8",
        "outputId": "c1403fb5-87cc-451e-b42e-92864fb69cd5"
      },
      "execution_count": null,
      "outputs": [
        {
          "output_type": "stream",
          "name": "stdout",
          "text": [
            "0         0.0\n",
            "1         0.0\n",
            "2         0.0\n",
            "3         0.0\n",
            "4         0.0\n",
            "         ... \n",
            "348635      0\n",
            "348636      0\n",
            "348637      0\n",
            "348638    0.0\n",
            "348639    0.0\n",
            "Name: missed_bytes, Length: 348640, dtype: object\n"
          ]
        }
      ]
    },
    {
      "cell_type": "markdown",
      "source": [
        "# **Converting data type to 'numpy.int64'**"
      ],
      "metadata": {
        "id": "60avf16DfNrN"
      }
    },
    {
      "cell_type": "code",
      "source": [
        "row_index = 1\n",
        "list = {}\n",
        "\n",
        "for column_name in df_main_new:\n",
        "  print(f\"{column_name} data type is {type(df_main_new.loc[row_index, column_name])}\")"
      ],
      "metadata": {
        "colab": {
          "base_uri": "https://localhost:8080/"
        },
        "id": "HA801MMuIT97",
        "outputId": "444fc7a2-7906-4846-abab-9eb83d1e7512"
      },
      "execution_count": null,
      "outputs": [
        {
          "output_type": "stream",
          "name": "stdout",
          "text": [
            "ts data type is <class 'numpy.int64'>\n",
            "uid data type is <class 'numpy.int64'>\n",
            "id.orig_h data type is <class 'numpy.int64'>\n",
            "id.orig_p data type is <class 'numpy.int64'>\n",
            "id.resp_h data type is <class 'numpy.int64'>\n",
            "id.resp_p data type is <class 'numpy.int64'>\n",
            "duration data type is <class 'float'>\n",
            "orig_bytes data type is <class 'int'>\n",
            "resp_bytes data type is <class 'int'>\n",
            "conn_state data type is <class 'numpy.int64'>\n",
            "missed_bytes data type is <class 'numpy.int64'>\n",
            "history data type is <class 'numpy.int64'>\n",
            "orig_pkts data type is <class 'numpy.int64'>\n",
            "orig_ip_bytes data type is <class 'float'>\n",
            "resp_pkts data type is <class 'numpy.int64'>\n",
            "resp_ip_bytes data type is <class 'numpy.int64'>\n",
            "label data type is <class 'numpy.int64'>\n",
            "detailed-label data type is <class 'numpy.int64'>\n"
          ]
        }
      ]
    },
    {
      "cell_type": "code",
      "source": [
        "float_col = ['ts','id.orig_p','id.resp_p','duration','missed_bytes','orig_pkts','resp_pkts','resp_ip_bytes']"
      ],
      "metadata": {
        "id": "_0ihqSi9KM-M"
      },
      "execution_count": null,
      "outputs": []
    },
    {
      "cell_type": "code",
      "source": [
        "unique_values = df_main_new['ts'].unique()\n",
        "value_to_number = {value: i for i, value in enumerate(unique_values)}\n",
        "\n",
        "# Replace the column with unique numbers\n",
        "df_main_new['ts'] = df_main_new['ts'].map(value_to_number)"
      ],
      "metadata": {
        "id": "l2IYv_ShK0LI"
      },
      "execution_count": null,
      "outputs": []
    },
    {
      "cell_type": "code",
      "source": [
        "df_main_new['orig_ip_bytes'].value_counts()"
      ],
      "metadata": {
        "colab": {
          "base_uri": "https://localhost:8080/"
        },
        "id": "8Bbl0WXXLsdI",
        "outputId": "2efb01f3-4e8a-456f-e416-6ca11f27b003"
      },
      "execution_count": null,
      "outputs": [
        {
          "output_type": "execute_result",
          "data": {
            "text/plain": [
              "180.0       321509\n",
              "60.0          3582\n",
              "1273.0        3212\n",
              "1377.0        2369\n",
              "120.0         1924\n",
              "             ...  \n",
              "304.0            1\n",
              "369.0            1\n",
              "2408.0           1\n",
              "379.0            1\n",
              "483602.0         1\n",
              "Name: orig_ip_bytes, Length: 1284, dtype: int64"
            ]
          },
          "metadata": {},
          "execution_count": 121
        }
      ]
    },
    {
      "cell_type": "code",
      "source": [
        "df_main_new['orig_ip_bytes'] = df_main_new['orig_ip_bytes'].astype(np.int64)"
      ],
      "metadata": {
        "id": "TLgD_Sr9MoFl"
      },
      "execution_count": null,
      "outputs": []
    },
    {
      "cell_type": "code",
      "source": [
        "temp.nunique()"
      ],
      "metadata": {
        "colab": {
          "base_uri": "https://localhost:8080/"
        },
        "id": "Nd9kkY5xLqPm",
        "outputId": "052ae3ca-3ae3-406b-dcef-8d331e2d8c6a"
      },
      "execution_count": null,
      "outputs": [
        {
          "output_type": "execute_result",
          "data": {
            "text/plain": [
              "270012"
            ]
          },
          "metadata": {},
          "execution_count": 80
        }
      ]
    },
    {
      "cell_type": "markdown",
      "source": [
        "# **Correlation matrix**"
      ],
      "metadata": {
        "id": "LROhZ-a8cu79"
      }
    },
    {
      "cell_type": "code",
      "source": [
        "# sns.heatmap(df_main_new, annot=True, fmt=\".1f\")\n",
        "correlation_matrix = df_main_new.corr()\n",
        "\n",
        "# Create a heatmap to visualize the correlation matrix\n",
        "plt.figure(figsize=(12,10))\n",
        "sns.heatmap(correlation_matrix, annot=True, cmap='coolwarm', linewidths=0.5)\n",
        "plt.title('Correlation Matrix')\n",
        "plt.show()"
      ],
      "metadata": {
        "colab": {
          "base_uri": "https://localhost:8080/",
          "height": 989
        },
        "id": "R7VMNmfnF-ob",
        "outputId": "70e3b168-7c08-4c1b-9363-cbc0349eae0a"
      },
      "execution_count": null,
      "outputs": [
        {
          "output_type": "stream",
          "name": "stderr",
          "text": [
            "<ipython-input-123-fb6200ac702e>:2: FutureWarning: The default value of numeric_only in DataFrame.corr is deprecated. In a future version, it will default to False. Select only valid columns or specify the value of numeric_only to silence this warning.\n",
            "  correlation_matrix = df_main_new.corr()\n"
          ]
        },
        {
          "output_type": "display_data",
          "data": {
            "text/plain": [
              "<Figure size 1200x1000 with 2 Axes>"
            ],
            "image/png": "[encoded data removed]"
          },
          "metadata": {}
        }
      ]
    },
    {
      "cell_type": "code",
      "source": [
        "df_main_new = df_main_new.drop(columns = ['proto'])"
      ],
      "metadata": {
        "id": "qIjQL-WjGv3A"
      },
      "execution_count": null,
      "outputs": []
    },
    {
      "cell_type": "code",
      "source": [
        "for col in df_main_new.columns:\n",
        "  unique_value = df_main_new[col].nunique()\n",
        "  print(f'{col} has unique values {unique_value}')"
      ],
      "metadata": {
        "colab": {
          "base_uri": "https://localhost:8080/"
        },
        "id": "N9ZATGhcG16H",
        "outputId": "cfa1c1df-8517-4afc-a82d-e9205f29a74a"
      },
      "execution_count": null,
      "outputs": [
        {
          "output_type": "stream",
          "name": "stdout",
          "text": [
            "ts has unique values 270012\n",
            "uid has unique values 270012\n",
            "id.orig_h has unique values 8\n",
            "id.orig_p has unique values 28338\n",
            "id.resp_h has unique values 241834\n",
            "id.resp_p has unique values 13\n",
            "duration has unique values 29891\n",
            "orig_bytes has unique values 152\n",
            "resp_bytes has unique values 602\n",
            "conn_state has unique values 10\n",
            "missed_bytes has unique values 6\n",
            "history has unique values 138\n",
            "orig_pkts has unique values 89\n",
            "orig_ip_bytes has unique values 1284\n",
            "resp_pkts has unique values 99\n",
            "resp_ip_bytes has unique values 1465\n",
            "label has unique values 2\n",
            "detailed-label has unique values 6\n"
          ]
        }
      ]
    },
    {
      "cell_type": "markdown",
      "source": [
        "# **Classification**"
      ],
      "metadata": {
        "id": "PVxddwxGwrKZ"
      }
    },
    {
      "cell_type": "markdown",
      "source": [
        "# **Dimentionality Reduction**"
      ],
      "metadata": {
        "id": "UnlD6TGtfY1g"
      }
    },
    {
      "cell_type": "markdown",
      "source": [
        "## **PCA**"
      ],
      "metadata": {
        "id": "ulXDgUFVRmXI"
      }
    },
    {
      "cell_type": "code",
      "source": [
        "df_main = pd.read_csv(\"/content/drive/MyDrive/Data_Mining/course_project_2/df_main.csv\")"
      ],
      "metadata": {
        "id": "zjC-yvsHRvz3"
      },
      "execution_count": null,
      "outputs": []
    },
    {
      "cell_type": "code",
      "source": [
        "import pandas as pd\n",
        "from sklearn.decomposition import PCA\n",
        "from sklearn.preprocessing import StandardScaler"
      ],
      "metadata": {
        "id": "IKsouOqvRlgi"
      },
      "execution_count": null,
      "outputs": []
    },
    {
      "cell_type": "code",
      "source": [
        "X = df_main.drop('label',axis=1)\n",
        "y = df_main['label']\n",
        "\n",
        "scaler = StandardScaler()\n",
        "X_scaled = scaler.fit_transform(X)"
      ],
      "metadata": {
        "id": "VEiTSOP_Rn8X"
      },
      "execution_count": null,
      "outputs": []
    },
    {
      "cell_type": "code",
      "source": [
        "n_components = 0.96  # Replace with the number of components you want\n",
        "pca = PCA(n_components=n_components)\n",
        "\n",
        "# Fit and transform the scaled data\n",
        "X_pca = pca.fit_transform(X_scaled)"
      ],
      "metadata": {
        "id": "aUpGZZKaSzKY"
      },
      "execution_count": null,
      "outputs": []
    },
    {
      "cell_type": "code",
      "source": [
        "X_pca.shape"
      ],
      "metadata": {
        "colab": {
          "base_uri": "https://localhost:8080/"
        },
        "id": "3i05pMuyS3WW",
        "outputId": "e52b8b57-2cfc-4f61-99c1-b536d12375d9"
      },
      "execution_count": null,
      "outputs": [
        {
          "output_type": "execute_result",
          "data": {
            "text/plain": [
              "(348640, 10)"
            ]
          },
          "metadata": {},
          "execution_count": 13
        }
      ]
    },
    {
      "cell_type": "markdown",
      "source": [
        "## **Splitting dataset**"
      ],
      "metadata": {
        "id": "QCXyMjq2fdgj"
      }
    },
    {
      "cell_type": "code",
      "source": [
        "X_train, X_test, y_train, y_test = train_test_split(X_pca, y, test_size=0.2, random_state=42)"
      ],
      "metadata": {
        "id": "CWK2m1qHTMJZ"
      },
      "execution_count": null,
      "outputs": []
    },
    {
      "cell_type": "markdown",
      "source": [
        "## **SVM**"
      ],
      "metadata": {
        "id": "KP1fQThSTI5c"
      }
    },
    {
      "cell_type": "markdown",
      "source": [
        "### **With PCA**"
      ],
      "metadata": {
        "id": "bOiYMYC_Uveb"
      }
    },
    {
      "cell_type": "markdown",
      "source": [
        "### **Hard margin**"
      ],
      "metadata": {
        "id": "LOyFVb6rTg6H"
      }
    },
    {
      "cell_type": "code",
      "source": [
        "hard_margin_svm = svm.SVC(kernel='linear', C=1e6)\n",
        "hard_margin_svm.fit(X_train, y_train)"
      ],
      "metadata": {
        "id": "NaBjgSn1Ti_3"
      },
      "execution_count": null,
      "outputs": []
    },
    {
      "cell_type": "code",
      "source": [
        "hard_margin_predictions = hard_margin_svm.predict(X_test)\n",
        "# soft_margin_predictions = soft_margin_svm.predict(X_test)\n",
        "\n",
        "\n",
        "hard_margin_accuracy = accuracy_score(y_test, hard_margin_predictions)\n",
        "\n",
        "print(\"Hard-Margin SVM Accuracy:\", hard_margin_accuracy)\n",
        "classification_report = metrics.classification_report(y_test, hard_margin_predictions)\n",
        "\n",
        "print(f'classification report {classification_report}')"
      ],
      "metadata": {
        "id": "N__GtherToL4"
      },
      "execution_count": null,
      "outputs": []
    },
    {
      "cell_type": "markdown",
      "source": [
        "### **Soft margin**"
      ],
      "metadata": {
        "id": "kqkDAXejUgIM"
      }
    },
    {
      "cell_type": "code",
      "source": [
        "soft_margin_svm = svm.SVC(kernel='linear', C=1.0)\n",
        "soft_margin_svm.fit(X_train, y_train)"
      ],
      "metadata": {
        "id": "22yrmajlUiSy"
      },
      "execution_count": null,
      "outputs": []
    },
    {
      "cell_type": "code",
      "source": [
        "soft_margin_predictions = soft_margin_svm.predict(X_test)\n",
        "soft_margin_accuracy = accuracy_score(y_test, soft_margin_predictions)\n",
        "print(\"Soft-Margin SVM Accuracy:\", soft_margin_accuracy)\n",
        "\n",
        "classification_report = metrics.classification_report(y_test, soft_margin_predictions)\n",
        "\n",
        "print(f'classification report {classification_report}')"
      ],
      "metadata": {
        "id": "h4dFDxq0Ukhm"
      },
      "execution_count": null,
      "outputs": []
    },
    {
      "cell_type": "markdown",
      "source": [
        "## **Without PCA**"
      ],
      "metadata": {
        "id": "UHv27os6U0TA"
      }
    },
    {
      "cell_type": "code",
      "source": [
        "X = df_main.drop('label',axis=1)\n",
        "y = df_main['label']"
      ],
      "metadata": {
        "id": "ytUoK5i8U3Hn"
      },
      "execution_count": null,
      "outputs": []
    },
    {
      "cell_type": "code",
      "source": [
        "X_train, X_test, y_train, y_test = train_test_split(X, y, test_size=0.2, random_state=42)"
      ],
      "metadata": {
        "id": "FQmyMhy4U64O"
      },
      "execution_count": null,
      "outputs": []
    },
    {
      "cell_type": "code",
      "source": [
        "size_scaler = preprocessing.StandardScaler().fit(X_train)\n",
        "X_train_scaled = size_scaler.transform(X_train)\n",
        "X_test_scaled = size_scaler.transform(X_test)\n",
        "X_train_scaled.shape, X_test_scaled.shape"
      ],
      "metadata": {
        "id": "GoIykqhbU-Cn"
      },
      "execution_count": null,
      "outputs": []
    },
    {
      "cell_type": "markdown",
      "source": [
        "### **Hard margin**"
      ],
      "metadata": {
        "id": "1objHOd3VF9y"
      }
    },
    {
      "cell_type": "code",
      "source": [
        "hard_margin_svm = svm.SVC(kernel='linear', C=1e6)\n",
        "hard_margin_svm.fit(X_train_scaled, y_train)"
      ],
      "metadata": {
        "id": "IsZxiNC5VF9y"
      },
      "execution_count": null,
      "outputs": []
    },
    {
      "cell_type": "code",
      "source": [
        "hard_margin_predictions = hard_margin_svm.predict(X_test_scaled)\n",
        "\n",
        "hard_margin_accuracy = accuracy_score(y_test, hard_margin_predictions)\n",
        "\n",
        "print(\"Hard-Margin SVM Accuracy:\", hard_margin_accuracy)\n",
        "\n",
        "classification_report = metrics.classification_report(y_test, hard_margin_predictions)\n",
        "\n",
        "print(f'classification report {classification_report}')"
      ],
      "metadata": {
        "id": "v1ZSwhahVF9y"
      },
      "execution_count": null,
      "outputs": []
    },
    {
      "cell_type": "markdown",
      "source": [
        "### **Soft margin**"
      ],
      "metadata": {
        "id": "SiDeOioVVIj0"
      }
    },
    {
      "cell_type": "code",
      "source": [
        "soft_margin_svm = svm.SVC(kernel='linear', C=1.0)\n",
        "soft_margin_svm.fit(X_train_scaled, y_train)"
      ],
      "metadata": {
        "id": "6KmxMAjcVIj6"
      },
      "execution_count": null,
      "outputs": []
    },
    {
      "cell_type": "code",
      "source": [
        "soft_margin_predictions = soft_margin_svm.predict(X_test_scaled)\n",
        "soft_margin_accuracy = accuracy_score(y_test, soft_margin_predictions)\n",
        "print(\"Soft-Margin SVM Accuracy:\", soft_margin_accuracy)\n",
        "classification_report = metrics.classification_report(y_test, soft_margin_predictions)\n",
        "\n",
        "print(f'classification report {classification_report}')"
      ],
      "metadata": {
        "id": "UVAWHJHMVIj7"
      },
      "execution_count": null,
      "outputs": []
    }
  ]
}